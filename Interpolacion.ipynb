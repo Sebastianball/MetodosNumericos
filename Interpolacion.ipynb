{
  "nbformat": 4,
  "nbformat_minor": 0,
  "metadata": {
    "colab": {
      "name": "Untitled0.ipynb",
      "provenance": [],
      "collapsed_sections": [],
      "authorship_tag": "ABX9TyMXozwMGn5dYzyKjaTE4hct",
      "include_colab_link": true
    },
    "kernelspec": {
      "name": "python3",
      "display_name": "Python 3"
    }
  },
  "cells": [
    {
      "cell_type": "markdown",
      "metadata": {
        "id": "view-in-github",
        "colab_type": "text"
      },
      "source": [
        "<a href=\"https://colab.research.google.com/github/Sebastianball/MetodosNumericos/blob/master/Interpolacion.ipynb\" target=\"_parent\"><img src=\"https://colab.research.google.com/assets/colab-badge.svg\" alt=\"Open In Colab\"/></a>"
      ]
    },
    {
      "cell_type": "code",
      "metadata": {
        "id": "LnILTIRB-u9V",
        "colab_type": "code",
        "colab": {
          "base_uri": "https://localhost:8080/",
          "height": 765
        },
        "outputId": "c01f5b66-af2c-4b9a-8934-b023f4f16714"
      },
      "source": [
        "print (\"------- Interpolacion Polinomica (Newton) -------\");\n",
        "n = int(input(\"Ingrese el grado del polinomio a evaluar: \"))+1\n",
        "\n",
        "# print \"El grado del polinomio es: \", n\n",
        "\n",
        "matriz = [0.0] * n\n",
        "for i in range(n):\n",
        "    matriz[i] = [0.0] * n\n",
        "\n",
        "vector = [0.0] * n\n",
        "\n",
        "print (matriz)\n",
        "print (vector)\n",
        "for i in range(n):\n",
        "    x = input(\"Ingrese el valor de x: \")\n",
        "    y = input(\"Ingrese el valor de f(\"+x+\"): \")\n",
        "    vector[i]=float(x)\n",
        "    matriz[i][0]=float(y)\n",
        "\n",
        "print (vector)    \n",
        "print (matriz)\n",
        "\n",
        "punto_a_evaluar = float(input(\"Ingrese el punto a evaluar: \"))\n",
        "\n",
        "print (\"------------------------------\");\n",
        "print (\"------- Calculando ... -------\");\n",
        "print (\"------------------------------\");\n",
        "\n",
        "for i in range(1,n):\n",
        "    for j in range(i,n):\n",
        "        print (\"i=\",i,\"    j=\",j);\n",
        "        print (\"(\",matriz[j][i-1],\"-\",matriz[j-1][i-1],\")/(\",vector[j],\"-\",vector[j-i],\")\");\n",
        "        matriz[j][i] = ( (matriz[j][i-1]-matriz[j-1][i-1]) / (vector[j]-vector[j-i]));\n",
        "        print (\"matriz[\",j,\"][\",i,\"] = \",(matriz[j][i-1]-matriz[j-1][i-1])/(vector[j]-vector[j-i]));\n",
        "\n",
        "print (\"------------------------------\");\n",
        "print (\"------------------------------\");\n",
        "for i in range(n):\n",
        "    print (matriz[i]);\n",
        "print (\"------------------------------\");\n",
        "print (\"------------------------------\");\n",
        "\n",
        "aprx = 0\n",
        "mul = 1.0\n",
        "for i in range(n):\n",
        "    print (\"matriz[\",i,\"][\",i,\"]\",\"=\",matriz[i][i]);\n",
        "    mul = (matriz[i][i]);\n",
        "    print (\"mul antes del ciclo j=\",mul);\n",
        "    for j in range(1,i+1):\n",
        "        mul = mul * (punto_a_evaluar - vector[j-1]);\n",
        "        print (\"mul en el ciclo j=\",mul);\n",
        "    # print aprx\n",
        "    aprx = aprx + mul\n",
        "\n",
        "print (\"------------------------------\");\n",
        "print (\"------------------------------\");\n",
        "print (\"El valor aproximado de f(\",punto_a_evaluar,\") es: \", aprx);"
      ],
      "execution_count": 17,
      "outputs": [
        {
          "output_type": "stream",
          "text": [
            "------- Interpolacion Polinomica (Newton) -------\n",
            "Ingrese el grado del polinomio a evaluar: 2\n",
            "[[0.0, 0.0, 0.0], [0.0, 0.0, 0.0], [0.0, 0.0, 0.0]]\n",
            "[0.0, 0.0, 0.0]\n",
            "Ingrese el valor de x: 2\n",
            "Ingrese el valor de f(2): 40\n",
            "Ingrese el valor de x: 3\n",
            "Ingrese el valor de f(3): 50\n",
            "Ingrese el valor de x: 4\n",
            "Ingrese el valor de f(4): 60\n",
            "[2.0, 3.0, 4.0]\n",
            "[[40.0, 0.0, 0.0], [50.0, 0.0, 0.0], [60.0, 0.0, 0.0]]\n",
            "Ingrese el punto a evaluar: 3\n",
            "------------------------------\n",
            "------- Calculando ... -------\n",
            "------------------------------\n",
            "i= 1     j= 1\n",
            "( 50.0 - 40.0 )/( 3.0 - 2.0 )\n",
            "matriz[ 1 ][ 1 ] =  10.0\n",
            "i= 1     j= 2\n",
            "( 60.0 - 50.0 )/( 4.0 - 3.0 )\n",
            "matriz[ 2 ][ 1 ] =  10.0\n",
            "i= 2     j= 2\n",
            "( 10.0 - 10.0 )/( 4.0 - 2.0 )\n",
            "matriz[ 2 ][ 2 ] =  0.0\n",
            "------------------------------\n",
            "------------------------------\n",
            "[40.0, 0.0, 0.0]\n",
            "[50.0, 10.0, 0.0]\n",
            "[60.0, 10.0, 0.0]\n",
            "------------------------------\n",
            "------------------------------\n",
            "matriz[ 0 ][ 0 ] = 40.0\n",
            "mul antes del ciclo j= 40.0\n",
            "matriz[ 1 ][ 1 ] = 10.0\n",
            "mul antes del ciclo j= 10.0\n",
            "mul en el ciclo j= 10.0\n",
            "matriz[ 2 ][ 2 ] = 0.0\n",
            "mul antes del ciclo j= 0.0\n",
            "mul en el ciclo j= 0.0\n",
            "mul en el ciclo j= 0.0\n",
            "------------------------------\n",
            "------------------------------\n",
            "El valor aproximado de f( 3.0 ) es:  50.0\n"
          ],
          "name": "stdout"
        }
      ]
    }
  ]
}