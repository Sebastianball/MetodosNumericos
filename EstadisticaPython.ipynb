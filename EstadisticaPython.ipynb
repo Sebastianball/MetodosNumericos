{
  "nbformat": 4,
  "nbformat_minor": 0,
  "metadata": {
    "colab": {
      "name": "EstadisticaPython.ipynb",
      "provenance": [],
      "collapsed_sections": [],
      "authorship_tag": "ABX9TyMaoy9LIMCGuU4prcZpnPrm",
      "include_colab_link": true
    },
    "kernelspec": {
      "name": "python3",
      "display_name": "Python 3"
    }
  },
  "cells": [
    {
      "cell_type": "markdown",
      "metadata": {
        "id": "view-in-github",
        "colab_type": "text"
      },
      "source": [
        "<a href=\"https://colab.research.google.com/github/Sebastianball/MetodosNumericos/blob/master/EstadisticaPython.ipynb\" target=\"_parent\"><img src=\"https://colab.research.google.com/assets/colab-badge.svg\" alt=\"Open In Colab\"/></a>"
      ]
    },
    {
      "cell_type": "code",
      "metadata": {
        "colab_type": "code",
        "outputId": "924c457a-22c5-4a23-8484-46c64be31dc6",
        "id": "ZY2M7rPlVh6R",
        "colab": {
          "base_uri": "https://localhost:8080/",
          "height": 66
        }
      },
      "source": [
        "#Libreria estadistica\n",
        "import statistics as stats\n",
        "\n",
        "#Crear variable para almacenar salarios\n",
        "salarios = [94242000,\n",
        "            94242000, \n",
        "            7423000, \n",
        "            80430, \n",
        "            676000000, \n",
        "            42920003, \n",
        "            54580000, \n",
        "            84880000, \n",
        "            1300000, \n",
        "            212200000, \n",
        "            982000000, \n",
        "            78900000, \n",
        "            48900000, \n",
        "            566800000, \n",
        "            960000000, \n",
        "            455000, \n",
        "            21100000, \n",
        "            11300000, \n",
        "            146000000]\n",
        "\n",
        "#Calcular e imprimir media de la variable salarios.\n",
        "print (stats.mean(salarios))\n",
        "\n",
        "#Calcular e imprimir mediana de la variable salarios.\n",
        "print (stats.median(salarios))\n",
        "\n",
        "#Calcular e imprimir la moda de la variable salarios.\n",
        "print (stats.mode(salarios))\n"
      ],
      "execution_count": 28,
      "outputs": [
        {
          "output_type": "stream",
          "text": [
            "214911707\n",
            "78900000\n",
            "94242000\n"
          ],
          "name": "stdout"
        }
      ]
    }
  ]
}